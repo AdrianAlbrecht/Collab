{
  "nbformat": 4,
  "nbformat_minor": 0,
  "metadata": {
    "colab": {
      "provenance": [],
      "authorship_tag": "ABX9TyNGIhrEQQWji8xn8hn70CeD",
      "include_colab_link": true
    },
    "kernelspec": {
      "name": "python3",
      "display_name": "Python 3"
    },
    "language_info": {
      "name": "python"
    }
  },
  "cells": [
    {
      "cell_type": "markdown",
      "metadata": {
        "id": "view-in-github",
        "colab_type": "text"
      },
      "source": [
        "<a href=\"https://colab.research.google.com/github/AdrianAlbrecht/Collab/blob/main/SSI_sterownik_rozmyty.ipynb\" target=\"_parent\"><img src=\"https://colab.research.google.com/assets/colab-badge.svg\" alt=\"Open In Colab\"/></a>"
      ]
    },
    {
      "cell_type": "code",
      "execution_count": 511,
      "metadata": {
        "id": "yWP1SS8_duON"
      },
      "outputs": [],
      "source": [
        "import warnings\n",
        "warnings.filterwarnings('ignore')\n",
        "import random\n",
        "import math\n",
        "import matplotlib.pyplot as plt\n",
        "import seaborn as sns\n",
        "import numpy as np\n",
        "from matplotlib.markers import MarkerStyle\n",
        "from matplotlib.transforms import Affine2D"
      ]
    },
    {
      "cell_type": "code",
      "source": [
        "class PojazdPolozenie:\n",
        "    def __init__(self, x, y, kat):\n",
        "        self.x = x\n",
        "        self.y = y\n",
        "        self.kat = kat #-180...+180 stopni, 0= oznacza zwrot do góry, 90=zwrot w prawo\n",
        "\n",
        "auto = PojazdPolozenie(20,-100,-170)"
      ],
      "metadata": {
        "id": "_XN6ffT-dzFa"
      },
      "execution_count": 512,
      "outputs": []
    },
    {
      "cell_type": "code",
      "source": [
        "class SymulacjaParametry:\n",
        "    x_min = -100\n",
        "    x_max = 100\n",
        "    x_zasieg = 200\n",
        "    y_min = -100\n",
        "    y_max = 0\n",
        "    y_zasieg = 100\n",
        "    #rampa\n",
        "    rampa_lewy = -30\n",
        "    rampa_prawy = +30\n",
        "    rampa_dol = -10\n",
        "    rampa_gora = 0\n",
        "    rampa_kat_docelowy_min = -20\n",
        "    rampa_kat_docelowy_max = +20\n",
        "    #ruch\n",
        "    obrot_min = -20\n",
        "    obrot_max = +20\n",
        "    kat_min = -180\n",
        "    kat_max = +180\n",
        "    kat_zasieg = 360\n",
        "    ruch_skok = 5.0\n",
        "\n",
        "\n",
        "sym_params = SymulacjaParametry()"
      ],
      "metadata": {
        "id": "mzztgnMOhwpH"
      },
      "execution_count": 513,
      "outputs": []
    },
    {
      "cell_type": "code",
      "source": [
        "def euclidean_distance(x1, x2):\n",
        "    return math.sqrt(sum((a - b) ** 2 for a, b in zip(x1, x2)))"
      ],
      "metadata": {
        "id": "CIUUKWCJqNC0"
      },
      "execution_count": 514,
      "outputs": []
    },
    {
      "cell_type": "code",
      "source": [
        "class SterownikRozmyty:\n",
        "    symulacja: SymulacjaParametry\n",
        "    ciezarowka: PojazdPolozenie\n",
        "    trasa: list[list[int, int]]\n",
        "\n",
        "    def __init__(self, sym_params, pojazd):\n",
        "        self.symulacja = sym_params\n",
        "        self.ciezarowka = pojazd\n",
        "        self.trasa = [[pojazd.x, pojazd.y, pojazd.kat]]\n",
        "\n",
        "    def kat_do_celu(self):\n",
        "        dest_x = (self.symulacja.rampa_lewy + self.symulacja.rampa_prawy) / 2\n",
        "        dest_y = self.symulacja.rampa_gora\n",
        "        return math.degrees(math.atan2(dest_x - self.ciezarowka.x, dest_y - self.ciezarowka.y))\n",
        "\n",
        "    def sterownik(self):\n",
        "        kat = self.kat_do_celu()\n",
        "        print(f'{kat} vs {self.ciezarowka.kat}')\n",
        "        if kat <self.ciezarowka.kat:\n",
        "            if (self.ciezarowka.kat-kat) >= self.symulacja.obrot_max:\n",
        "                return self.symulacja.obrot_min\n",
        "            elif self.symulacja.obrot_min < (self.ciezarowka.kat - kat) < self.symulacja.obrot_max:\n",
        "                return -(self.ciezarowka.kat - kat)\n",
        "        elif kat > self.ciezarowka.kat:\n",
        "            if (kat - self.ciezarowka.kat) >= self.symulacja.obrot_max:\n",
        "                return self.symulacja.obrot_max\n",
        "            elif self.symulacja.obrot_min < (kat - self.ciezarowka.kat) < self.symulacja.obrot_max:\n",
        "                return kat - self.ciezarowka.kat\n",
        "        return 0\n",
        "\n",
        "    def symuluj(self, margines):\n",
        "        dest_x = (self.symulacja.rampa_lewy + self.symulacja.rampa_prawy) / 2\n",
        "        dest_y = self.symulacja.rampa_gora\n",
        "\n",
        "        while not((dest_x - margines <= self.ciezarowka.x <= dest_x + margines) and (dest_y - margines <= self.ciezarowka.y <= dest_y + margines)):\n",
        "            self.ciezarowka.kat += self.sterownik()\n",
        "\n",
        "            if holowczyc := euclidean_distance([self.ciezarowka.x, self.ciezarowka.y], [dest_x, dest_y]) > self.symulacja.ruch_skok:\n",
        "                za_100_metrow_prosto = self.symulacja.ruch_skok\n",
        "            else:\n",
        "                za_100_metrow_prosto = holowczyc\n",
        "\n",
        "            radiany = math.radians(90 - self.ciezarowka.kat if self.ciezarowka.kat <= 90 else self.ciezarowka.kat - 90)\n",
        "            self.ciezarowka.x += round((za_100_metrow_prosto * math.cos(radiany)),0)\n",
        "            self.ciezarowka.y += round((za_100_metrow_prosto * math.sin(radiany)),0)\n",
        "            polozenie = [self.ciezarowka.x, self.ciezarowka.y]\n",
        "            self.trasa.append(polozenie+[self.ciezarowka.kat])\n",
        "            print(f'Aktualne polozenie ciezarowki: {polozenie+[self.ciezarowka.kat]}')\n",
        "            print(f'Punkt docelowy: {[dest_x, dest_y]}')\n",
        "        return self.trasa"
      ],
      "metadata": {
        "id": "F0czXmg4mRTG"
      },
      "execution_count": 515,
      "outputs": []
    },
    {
      "cell_type": "code",
      "source": [
        "st_rozmyty = SterownikRozmyty(sym_params, auto)\n",
        "trasa = st_rozmyty.symuluj(1)"
      ],
      "metadata": {
        "id": "3P4xliscuFNH",
        "outputId": "97145fc1-a733-4667-eb72-0d6b8f02d3cf",
        "colab": {
          "base_uri": "https://localhost:8080/"
        }
      },
      "execution_count": 516,
      "outputs": [
        {
          "output_type": "stream",
          "name": "stdout",
          "text": [
            "-11.309932474020213 vs -170\n",
            "Aktualne polozenie ciezarowki: [17.0, -104.0, -150]\n",
            "Punkt docelowy: [0.0, 0]\n",
            "-9.283552805261346 vs -150\n",
            "Aktualne polozenie ciezarowki: [13.0, -107.0, -130]\n",
            "Punkt docelowy: [0.0, 0]\n",
            "-6.927218126009166 vs -130\n",
            "Aktualne polozenie ciezarowki: [8.0, -109.0, -110]\n",
            "Punkt docelowy: [0.0, 0]\n",
            "-4.197668357160926 vs -110\n",
            "Aktualne polozenie ciezarowki: [3.0, -109.0, -90]\n",
            "Punkt docelowy: [0.0, 0]\n",
            "-1.576550055183732 vs -90\n",
            "Aktualne polozenie ciezarowki: [-2.0, -107.0, -70]\n",
            "Punkt docelowy: [0.0, 0]\n",
            "1.0708244547869634 vs -70\n",
            "Aktualne polozenie ciezarowki: [-6.0, -104.0, -50]\n",
            "Punkt docelowy: [0.0, 0]\n",
            "3.3018656744350032 vs -50\n",
            "Aktualne polozenie ciezarowki: [-8.0, -100.0, -30]\n",
            "Punkt docelowy: [0.0, 0]\n",
            "4.573921259900861 vs -30\n",
            "Aktualne polozenie ciezarowki: [-9.0, -95.0, -10]\n",
            "Punkt docelowy: [0.0, 0]\n",
            "5.4118691523170295 vs -10\n",
            "Aktualne polozenie ciezarowki: [-9.0, -90.0, 5.4118691523170295]\n",
            "Punkt docelowy: [0.0, 0]\n",
            "5.710593137499642 vs 5.4118691523170295\n",
            "Aktualne polozenie ciezarowki: [-9.0, -85.0, 5.710593137499642]\n",
            "Punkt docelowy: [0.0, 0]\n",
            "6.044092162241109 vs 5.710593137499642\n",
            "Aktualne polozenie ciezarowki: [-8.0, -80.0, 6.044092162241109]\n",
            "Punkt docelowy: [0.0, 0]\n",
            "5.710593137499642 vs 6.044092162241109\n",
            "Aktualne polozenie ciezarowki: [-8.0, -75.0, 5.710593137499642]\n",
            "Punkt docelowy: [0.0, 0]\n",
            "6.088528154195175 vs 5.710593137499642\n",
            "Aktualne polozenie ciezarowki: [-7.0, -70.0, 6.088528154195175]\n",
            "Punkt docelowy: [0.0, 0]\n",
            "5.710593137499642 vs 6.088528154195175\n",
            "Aktualne polozenie ciezarowki: [-7.0, -65.0, 5.710593137499642]\n",
            "Punkt docelowy: [0.0, 0]\n",
            "6.14662565964667 vs 5.710593137499642\n",
            "Aktualne polozenie ciezarowki: [-6.0, -60.0, 6.14662565964667]\n",
            "Punkt docelowy: [0.0, 0]\n",
            "5.710593137499642 vs 6.14662565964667\n",
            "Aktualne polozenie ciezarowki: [-6.0, -55.0, 5.710593137499642]\n",
            "Punkt docelowy: [0.0, 0]\n",
            "6.225829064425769 vs 5.710593137499642\n",
            "Aktualne polozenie ciezarowki: [-5.0, -50.0, 6.225829064425769]\n",
            "Punkt docelowy: [0.0, 0]\n",
            "5.710593137499642 vs 6.225829064425769\n",
            "Aktualne polozenie ciezarowki: [-5.0, -45.0, 5.710593137499642]\n",
            "Punkt docelowy: [0.0, 0]\n",
            "6.34019174590991 vs 5.710593137499642\n",
            "Aktualne polozenie ciezarowki: [-4.0, -40.0, 6.34019174590991]\n",
            "Punkt docelowy: [0.0, 0]\n",
            "5.710593137499642 vs 6.34019174590991\n",
            "Aktualne polozenie ciezarowki: [-4.0, -35.0, 5.710593137499642]\n",
            "Punkt docelowy: [0.0, 0]\n",
            "6.519801751656986 vs 5.710593137499642\n",
            "Aktualne polozenie ciezarowki: [-3.0, -30.0, 6.519801751656986]\n",
            "Punkt docelowy: [0.0, 0]\n",
            "5.710593137499642 vs 6.519801751656986\n",
            "Aktualne polozenie ciezarowki: [-3.0, -25.0, 5.710593137499642]\n",
            "Punkt docelowy: [0.0, 0]\n",
            "6.84277341263094 vs 5.710593137499642\n",
            "Aktualne polozenie ciezarowki: [-2.0, -20.0, 6.84277341263094]\n",
            "Punkt docelowy: [0.0, 0]\n",
            "5.710593137499642 vs 6.84277341263094\n",
            "Aktualne polozenie ciezarowki: [-2.0, -15.0, 5.710593137499642]\n",
            "Punkt docelowy: [0.0, 0]\n",
            "7.594643368591445 vs 5.710593137499642\n",
            "Aktualne polozenie ciezarowki: [-1.0, -10.0, 7.594643368591445]\n",
            "Punkt docelowy: [0.0, 0]\n",
            "5.710593137499642 vs 7.594643368591445\n",
            "Aktualne polozenie ciezarowki: [-1.0, -5.0, 5.710593137499642]\n",
            "Punkt docelowy: [0.0, 0]\n",
            "11.309932474020213 vs 5.710593137499642\n",
            "Aktualne polozenie ciezarowki: [0.0, 0.0, 11.309932474020213]\n",
            "Punkt docelowy: [0.0, 0]\n"
          ]
        }
      ]
    },
    {
      "cell_type": "code",
      "source": [
        "trasa"
      ],
      "metadata": {
        "colab": {
          "base_uri": "https://localhost:8080/"
        },
        "id": "Y8fi__tmv4Z8",
        "outputId": "b9b3865c-b296-408a-af29-560b96c8358f"
      },
      "execution_count": 517,
      "outputs": [
        {
          "output_type": "execute_result",
          "data": {
            "text/plain": [
              "[[20, -100, -170],\n",
              " [17.0, -104.0, -150],\n",
              " [13.0, -107.0, -130],\n",
              " [8.0, -109.0, -110],\n",
              " [3.0, -109.0, -90],\n",
              " [-2.0, -107.0, -70],\n",
              " [-6.0, -104.0, -50],\n",
              " [-8.0, -100.0, -30],\n",
              " [-9.0, -95.0, -10],\n",
              " [-9.0, -90.0, 5.4118691523170295],\n",
              " [-9.0, -85.0, 5.710593137499642],\n",
              " [-8.0, -80.0, 6.044092162241109],\n",
              " [-8.0, -75.0, 5.710593137499642],\n",
              " [-7.0, -70.0, 6.088528154195175],\n",
              " [-7.0, -65.0, 5.710593137499642],\n",
              " [-6.0, -60.0, 6.14662565964667],\n",
              " [-6.0, -55.0, 5.710593137499642],\n",
              " [-5.0, -50.0, 6.225829064425769],\n",
              " [-5.0, -45.0, 5.710593137499642],\n",
              " [-4.0, -40.0, 6.34019174590991],\n",
              " [-4.0, -35.0, 5.710593137499642],\n",
              " [-3.0, -30.0, 6.519801751656986],\n",
              " [-3.0, -25.0, 5.710593137499642],\n",
              " [-2.0, -20.0, 6.84277341263094],\n",
              " [-2.0, -15.0, 5.710593137499642],\n",
              " [-1.0, -10.0, 7.594643368591445],\n",
              " [-1.0, -5.0, 5.710593137499642],\n",
              " [0.0, 0.0, 11.309932474020213]]"
            ]
          },
          "metadata": {},
          "execution_count": 517
        }
      ]
    },
    {
      "cell_type": "code",
      "source": [
        "def wizualizacja(symulacja, trasa):\n",
        "    plt.figure(figsize=(15, 10))\n",
        "    aktualna_trasa = []\n",
        "    for x_t in trasa:\n",
        "        aktualna_trasa.append(x_t)\n",
        "        x = [punkt[0] for punkt in aktualna_trasa]\n",
        "        y = [punkt[1] for punkt in aktualna_trasa]\n",
        "        dest_x = (symulacja.rampa_lewy + symulacja.rampa_prawy) / 2\n",
        "        dest_y = symulacja.rampa_gora\n",
        "        strzalka_kierunkowa = MarkerStyle(marker='^', transform=Affine2D().rotate_deg(-x_t[-1]))\n",
        "        plt.plot([symulacja.rampa_lewy, symulacja.rampa_lewy, symulacja.rampa_prawy, symulacja.rampa_prawy], [symulacja.rampa_gora, symulacja.rampa_dol, symulacja.rampa_dol, symulacja.rampa_gora], color='r', linestyle='dotted')\n",
        "        plt.plot(x,y,color='black',linestyle='dotted')\n",
        "        plt.scatter(dest_x, dest_y, color='green', marker = 's', s = 200)\n",
        "        plt.scatter(x_t[0],x_t[1], color='black', marker = strzalka_kierunkowa, s = 150)\n"
      ],
      "metadata": {
        "id": "wcxpldfUv60T"
      },
      "execution_count": 518,
      "outputs": []
    },
    {
      "cell_type": "code",
      "source": [
        "wizualizacja(sym_params, trasa)"
      ],
      "metadata": {
        "id": "uEJFMzaEzL0q",
        "outputId": "1b72beaa-0a4c-4e98-c399-d1de31069972",
        "colab": {
          "base_uri": "https://localhost:8080/",
          "height": 830
        }
      },
      "execution_count": 519,
      "outputs": [
        {
          "output_type": "display_data",
          "data": {
            "text/plain": [
              "<Figure size 1500x1000 with 1 Axes>"
            ],
            "image/png": "[encoded data removed]"
          },
          "metadata": {}
        }
      ]
    }
  ]
}