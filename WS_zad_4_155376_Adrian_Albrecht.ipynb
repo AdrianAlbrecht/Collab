{
  "nbformat": 4,
  "nbformat_minor": 0,
  "metadata": {
    "colab": {
      "provenance": [],
      "authorship_tag": "ABX9TyMWhm4KWmI0gcJHCSH454KB",
      "include_colab_link": true
    },
    "kernelspec": {
      "name": "python3",
      "display_name": "Python 3"
    },
    "language_info": {
      "name": "python"
    }
  },
  "cells": [
    {
      "cell_type": "markdown",
      "metadata": {
        "id": "view-in-github",
        "colab_type": "text"
      },
      "source": [
        "<a href=\"https://colab.research.google.com/github/AdrianAlbrecht/Collab/blob/main/WS_zad_4_155376_Adrian_Albrecht.ipynb\" target=\"_parent\"><img src=\"https://colab.research.google.com/assets/colab-badge.svg\" alt=\"Open In Colab\"/></a>"
      ]
    },
    {
      "cell_type": "markdown",
      "source": [
        "#Importujemy potrzebne bilbioteki"
      ],
      "metadata": {
        "id": "KgWSvmkPLYm0"
      }
    },
    {
      "cell_type": "code",
      "execution_count": 1,
      "metadata": {
        "id": "yDzr1-P0JJNM"
      },
      "outputs": [],
      "source": [
        "import cv2\n",
        "import numpy as np"
      ]
    },
    {
      "cell_type": "markdown",
      "source": [
        "Wczytujemy plik mp4 przycięty w czasie 7:31 - 8:31 z linku podanego w instrukcji zadania."
      ],
      "metadata": {
        "id": "Ka4v3Cl-Lers"
      }
    },
    {
      "cell_type": "code",
      "source": [
        "video_capture = cv2.VideoCapture('car_camera_clip.mp4')"
      ],
      "metadata": {
        "id": "Jk361LrOLWR-"
      },
      "execution_count": 2,
      "outputs": []
    },
    {
      "cell_type": "markdown",
      "source": [
        "# Konfigurujemy CV2 za pomocą zmiennych paramerrycznych"
      ],
      "metadata": {
        "id": "XT04QCSzLwP8"
      }
    },
    {
      "cell_type": "code",
      "source": [
        "fps = video_capture.get(cv2.CAP_PROP_FPS)\n",
        "frame_size = (int(video_capture.get(cv2.CAP_PROP_FRAME_WIDTH)), int(video_capture.get(cv2.CAP_PROP_FRAME_HEIGHT)))"
      ],
      "metadata": {
        "id": "p1CXG1AVL2z7"
      },
      "execution_count": 3,
      "outputs": []
    },
    {
      "cell_type": "markdown",
      "source": [
        "# Sprawdźmy, czy plik da się otworzyć (może być uszkdozony, bądź w trakcie wczytywania pliku mogło się coś zepsuć)"
      ],
      "metadata": {
        "id": "LyWEtASUL4fM"
      }
    },
    {
      "cell_type": "code",
      "source": [
        "if not video_capture.isOpened():\n",
        "    print(\"Error: Could not open video file.\")\n",
        "    exit()"
      ],
      "metadata": {
        "id": "d1aH3qKtMF5L"
      },
      "execution_count": 4,
      "outputs": []
    },
    {
      "cell_type": "markdown",
      "source": [
        "# Tworzymy potrzebne vmienne i obiekty do zaczęcia analizy\n",
        "\n",
        "---\n",
        "- Licznik klatek\n",
        "- obiekt do zapisu video\n"
      ],
      "metadata": {
        "id": "9p-rL8hgMGKL"
      }
    },
    {
      "cell_type": "code",
      "source": [
        "frame_count = 0\n",
        "output_video = cv2.VideoWriter('car_camera_with_red_lines.mp4', cv2.VideoWriter_fourcc(*'mp4v'), fps, frame_size)"
      ],
      "metadata": {
        "id": "r0c0Fy3UMU7T"
      },
      "execution_count": 5,
      "outputs": []
    },
    {
      "cell_type": "markdown",
      "source": [
        "# Uruchamiamy główną pętlę algorytmu, w której klatka po klatce zaczniemy analizować klatkę krok po kroku według instrukcji algorytmu i zappisywanie nadmienione klatki"
      ],
      "metadata": {
        "id": "Didc9QE3MYR0"
      }
    },
    {
      "cell_type": "code",
      "source": [
        "while True:\n",
        "    ret, frame = video_capture.read()\n",
        "\n",
        "    # Zakończ pętlę, jeżeli nie udało się wczytać klatki, co jest jednoznaczne z uszkodzeniem dalszej części pliku bądź końcu pliku\n",
        "    if not ret:\n",
        "        break\n",
        "\n",
        "    # Dodaj do liczniki ramek analizowaną ramkę\n",
        "    frame_count += 1\n",
        "\n",
        "    # Konwersja klatki na szarość\n",
        "    gray = cv2.cvtColor(frame, cv2.COLOR_BGR2GRAY)\n",
        "\n",
        "    # Rozmycie Gaussa na  klatce filmu\n",
        "    gblur = cv2.GaussianBlur(gray, (15, 15), 0)\n",
        "\n",
        "    # Wykrywanie krawędzi drogi na klatce algorytmem Canny'ego (low, high)\n",
        "    gblur_canny = cv2.Canny(gblur, 20, 70)\n",
        "\n",
        "    # Docinamy ramkę do fragmentu z drogą (normalnie 1920 x 1080)\n",
        "    h, w, x, y = 290, 1650, 0, 700\n",
        "    img1 = gblur_canny[y:y+h, x:x+w]\n",
        "    img2 = np.zeros_like(gblur_canny)\n",
        "    img2[y:y+h, x:x+w] = img1\n",
        "\n",
        "    # Dodajemy czerwone linie oznaczające granice drogi na klatce\n",
        "    dst = cv2.Canny(img2, 50, 200, None, 3)\n",
        "    cdst = cv2.cvtColor(dst, cv2.COLOR_GRAY2BGR)\n",
        "    cdstP = np.copy(cdst)\n",
        "\n",
        "    lines = cv2.HoughLines(dst, 1, np.pi / 180, 150, None, 0, 0)\n",
        "    if lines is not None:\n",
        "        for i in range(0, len(lines)):\n",
        "            rho = lines[i][0][0]\n",
        "            theta = lines[i][0][1]\n",
        "            a = np.cos(theta)\n",
        "            b = np.sin(theta)\n",
        "            x0 = a * rho\n",
        "            y0 = b * rho\n",
        "            pt1 = (int(x0 + 1000 * (-b)), int(y0 + 1000 * a))\n",
        "            pt2 = (int(x0 - 1000 * (-b)), int(y0 - 1000 * a))\n",
        "\n",
        "            cv2.line(cdst, pt1, pt2, (0, 0, 255), 3, cv2.LINE_AA)\n",
        "\n",
        "    linesP = cv2.HoughLinesP(dst, 1, np.pi / 180, 50, None, 50, 10)\n",
        "    if linesP is not None:\n",
        "        for line in linesP:\n",
        "            x1, y1, x2, y2 = line[0]\n",
        "            cv2.line(frame, (x1, y1), (x2, y2), (0, 0, 255), 3, cv2.LINE_AA)\n",
        "\n",
        "    # Podpisujemy klatkę i wyświetlamy numer ramki\n",
        "    font = cv2.FONT_HERSHEY_TRIPLEX\n",
        "    font2 = cv2.FONT_HERSHEY_SCRIPT_SIMPLEX\n",
        "    font_scale = 0.8\n",
        "    font_thickness = 2\n",
        "    text_color = (255, 255, 0)\n",
        "    text_color2 = (0, 0, 255)\n",
        "    text_position_name = (frame_size[0] - 250, frame_size[1] - 20)\n",
        "    cv2.putText(frame, \"Adrian Albrecht\", text_position_name, font, font_scale, text_color, font_thickness)\n",
        "    text_position_frames_counter = (frame_size[0] - 1900, frame_size[1] - 1040)\n",
        "    cv2.putText(frame, f'Ramka nr: {frame_count}', text_position_frames_counter,\n",
        "                font2, font_scale, text_color2, font_thickness)\n",
        "\n",
        "    # Wyświetlamy klatkę (opcjonalnie, Google Collab nie pozwala na tą funkcję)\n",
        "    # cv2.imshow('Video', frame)\n",
        "\n",
        "    # Zapisujemy obrobioną klatkę do pliku wyjściowego\n",
        "    output_video.write(frame)"
      ],
      "metadata": {
        "id": "qOEWFG44MtLr"
      },
      "execution_count": 6,
      "outputs": []
    },
    {
      "cell_type": "markdown",
      "source": [
        "# Zwalniamy resztę zasobów, ponieważ, nie będą nam już potrzebne"
      ],
      "metadata": {
        "id": "0CcKx7TfOW0N"
      }
    },
    {
      "cell_type": "code",
      "source": [
        "video_capture.release()\n",
        "output_video.release()\n",
        "cv2.destroyAllWindows()"
      ],
      "metadata": {
        "id": "t26GDAUzOROu"
      },
      "execution_count": 7,
      "outputs": []
    }
  ]
}