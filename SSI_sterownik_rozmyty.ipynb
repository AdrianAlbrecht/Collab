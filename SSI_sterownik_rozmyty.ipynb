{
  "nbformat": 4,
  "nbformat_minor": 0,
  "metadata": {
    "colab": {
      "provenance": [],
      "authorship_tag": "ABX9TyNKQgNnRX3htq1przigy3Tx",
      "include_colab_link": true
    },
    "kernelspec": {
      "name": "python3",
      "display_name": "Python 3"
    },
    "language_info": {
      "name": "python"
    }
  },
  "cells": [
    {
      "cell_type": "markdown",
      "metadata": {
        "id": "view-in-github",
        "colab_type": "text"
      },
      "source": [
        "<a href=\"https://colab.research.google.com/github/AdrianAlbrecht/Collab/blob/main/SSI_sterownik_rozmyty.ipynb\" target=\"_parent\"><img src=\"https://colab.research.google.com/assets/colab-badge.svg\" alt=\"Open In Colab\"/></a>"
      ]
    },
    {
      "cell_type": "code",
      "execution_count": 685,
      "metadata": {
        "id": "yWP1SS8_duON"
      },
      "outputs": [],
      "source": [
        "import warnings\n",
        "warnings.filterwarnings('ignore')\n",
        "import random\n",
        "import math\n",
        "import matplotlib.pyplot as plt\n",
        "import seaborn as sns\n",
        "import numpy as np\n",
        "from matplotlib.markers import MarkerStyle\n",
        "from matplotlib.transforms import Affine2D"
      ]
    },
    {
      "cell_type": "code",
      "source": [
        "class PojazdPolozenie:\n",
        "    def __init__(self, x, y, kat):\n",
        "        self.x = x\n",
        "        self.y = y\n",
        "        self.kat = kat #-180...+180 stopni, 0= oznacza zwrot do góry, 90=zwrot w prawo\n",
        "\n",
        "auto = PojazdPolozenie(20.0,-170.0,-170.00)"
      ],
      "metadata": {
        "id": "_XN6ffT-dzFa"
      },
      "execution_count": 686,
      "outputs": []
    },
    {
      "cell_type": "code",
      "source": [
        "class SymulacjaParametry:\n",
        "    x_min = -100\n",
        "    x_max = 100\n",
        "    x_zasieg = 200\n",
        "    y_min = -100\n",
        "    y_max = 0\n",
        "    y_zasieg = 100\n",
        "    #rampa\n",
        "    rampa_lewy = -30\n",
        "    rampa_prawy = +30\n",
        "    rampa_dol = -10\n",
        "    rampa_gora = 0\n",
        "    rampa_kat_docelowy_min = -20\n",
        "    rampa_kat_docelowy_max = +20\n",
        "    #ruch\n",
        "    obrot_min = -20\n",
        "    obrot_max = +20\n",
        "    kat_min = -180\n",
        "    kat_max = +180\n",
        "    kat_zasieg = 360\n",
        "    ruch_skok = 5.0\n",
        "\n",
        "\n",
        "sym_params = SymulacjaParametry()"
      ],
      "metadata": {
        "id": "mzztgnMOhwpH"
      },
      "execution_count": 687,
      "outputs": []
    },
    {
      "cell_type": "code",
      "source": [
        "def euclidean_distance(x1, x2):\n",
        "    return math.sqrt(sum((a - b) ** 2 for a, b in zip(x1, x2)))"
      ],
      "metadata": {
        "id": "CIUUKWCJqNC0"
      },
      "execution_count": 688,
      "outputs": []
    },
    {
      "cell_type": "code",
      "source": [
        "class SterownikRozmyty:\n",
        "    symulacja: SymulacjaParametry\n",
        "    ciezarowka: PojazdPolozenie\n",
        "    trasa: list[list[int, int]]\n",
        "\n",
        "    def __init__(self, sym_params, pojazd):\n",
        "        self.symulacja = sym_params\n",
        "        self.ciezarowka = pojazd\n",
        "        self.trasa = [[pojazd.x, pojazd.y, pojazd.kat]]\n",
        "\n",
        "    def kat_do_celu(self):\n",
        "        dest_x = (self.symulacja.rampa_lewy + self.symulacja.rampa_prawy) / 2\n",
        "        dest_y = self.symulacja.rampa_gora\n",
        "        return math.degrees(math.atan2(dest_x - self.ciezarowka.x, dest_y - self.ciezarowka.y))\n",
        "\n",
        "    def sterownik(self):\n",
        "        kat = self.kat_do_celu()\n",
        "        print(f'{kat} vs {self.ciezarowka.kat}')\n",
        "        roznica_katow = self.ciezarowka.kat - kat\n",
        "        if kat < self.ciezarowka.kat:\n",
        "            if roznica_katow >= self.symulacja.obrot_max:\n",
        "                return self.symulacja.obrot_min\n",
        "            elif self.symulacja.obrot_min < roznica_katow < self.symulacja.obrot_max:\n",
        "                return -roznica_katow\n",
        "        elif kat > self.ciezarowka.kat:\n",
        "            if -roznica_katow >= self.symulacja.obrot_max:\n",
        "                return self.symulacja.obrot_max\n",
        "            elif self.symulacja.obrot_min < -roznica_katow < self.symulacja.obrot_max:\n",
        "                return -roznica_katow\n",
        "        return 0\n",
        "\n",
        "    def symuluj(self, margines):\n",
        "        dest_x = (self.symulacja.rampa_lewy + self.symulacja.rampa_prawy) / 2\n",
        "        dest_y = self.symulacja.rampa_gora\n",
        "\n",
        "        while not((dest_x - margines <= self.ciezarowka.x <= dest_x + margines) and (dest_y - margines <= self.ciezarowka.y <= dest_y + margines)):\n",
        "            self.ciezarowka.kat += self.sterownik()\n",
        "\n",
        "            if holowczyc := euclidean_distance([self.ciezarowka.x, self.ciezarowka.y], [dest_x, dest_y]) > self.symulacja.ruch_skok:\n",
        "                za_100_metrow_prosto = self.symulacja.ruch_skok\n",
        "            else:\n",
        "                za_100_metrow_prosto = holowczyc\n",
        "\n",
        "            radiany = math.radians(90 - self.ciezarowka.kat if self.ciezarowka.kat <= 90 else self.ciezarowka.kat - 90)\n",
        "            self.ciezarowka.x += round((za_100_metrow_prosto * math.cos(radiany)),2)\n",
        "            self.ciezarowka.y += round((za_100_metrow_prosto * math.sin(radiany)),2)\n",
        "            polozenie = [self.ciezarowka.x, self.ciezarowka.y]\n",
        "            self.trasa.append(polozenie+[self.ciezarowka.kat])\n",
        "            print(f'Aktualne polozenie ciezarowki: {polozenie+[self.ciezarowka.kat]}')\n",
        "            print(f'Punkt docelowy: {[dest_x, dest_y]}')\n",
        "        return self.trasa"
      ],
      "metadata": {
        "id": "F0czXmg4mRTG"
      },
      "execution_count": 689,
      "outputs": []
    },
    {
      "cell_type": "code",
      "source": [
        "st_rozmyty = SterownikRozmyty(sym_params, auto)\n",
        "trasa = st_rozmyty.symuluj(1)"
      ],
      "metadata": {
        "colab": {
          "base_uri": "https://localhost:8080/"
        },
        "id": "3P4xliscuFNH",
        "outputId": "744b6314-4f85-4e65-c10d-979beb69e609"
      },
      "execution_count": 690,
      "outputs": [
        {
          "output_type": "stream",
          "name": "stdout",
          "text": [
            "-6.7098368077569335 vs -170.0\n",
            "Aktualne polozenie ciezarowki: [17.5, -174.33, -150.0]\n",
            "Punkt docelowy: [0.0, 0]\n",
            "-5.7323946881703955 vs -150.0\n",
            "Aktualne polozenie ciezarowki: [13.67, -177.54000000000002, -130.0]\n",
            "Punkt docelowy: [0.0, 0]\n",
            "-4.402900696535452 vs -130.0\n",
            "Aktualne polozenie ciezarowki: [8.969999999999999, -179.25000000000003, -110.0]\n",
            "Punkt docelowy: [0.0, 0]\n",
            "-2.864796555733856 vs -110.0\n",
            "Aktualne polozenie ciezarowki: [3.969999999999999, -179.25000000000003, -90.0]\n",
            "Punkt docelowy: [0.0, 0]\n",
            "-1.2687702269352703 vs -90.0\n",
            "Aktualne polozenie ciezarowki: [-0.7300000000000013, -177.54000000000002, -70.0]\n",
            "Punkt docelowy: [0.0, 0]\n",
            "0.23558456312494175 vs -70.0\n",
            "Aktualne polozenie ciezarowki: [-4.560000000000001, -174.33, -50.0]\n",
            "Punkt docelowy: [0.0, 0]\n",
            "1.4983605346894016 vs -50.0\n",
            "Aktualne polozenie ciezarowki: [-7.060000000000001, -170.0, -30.0]\n",
            "Punkt docelowy: [0.0, 0]\n",
            "2.3780934883545553 vs -30.0\n",
            "Aktualne polozenie ciezarowki: [-7.9300000000000015, -165.08, -10.0]\n",
            "Punkt docelowy: [0.0, 0]\n",
            "2.7502212674250885 vs -10.0\n",
            "Aktualne polozenie ciezarowki: [-7.690000000000001, -160.09, 2.750221267425088]\n",
            "Punkt docelowy: [0.0, 0]\n",
            "2.7501163603622203 vs 2.750221267425088\n",
            "Aktualne polozenie ciezarowki: [-7.450000000000001, -155.1, 2.7501163603622203]\n",
            "Punkt docelowy: [0.0, 0]\n",
            "2.7500047029729062 vs 2.7501163603622203\n",
            "Aktualne polozenie ciezarowki: [-7.210000000000001, -150.10999999999999, 2.7500047029729062]\n",
            "Punkt docelowy: [0.0, 0]\n",
            "2.7498856220661505 vs 2.7500047029729062\n",
            "Aktualne polozenie ciezarowki: [-6.970000000000001, -145.11999999999998, 2.7498856220661505]\n",
            "Punkt docelowy: [0.0, 0]\n",
            "2.7497583518590667 vs 2.7498856220661505\n",
            "Aktualne polozenie ciezarowki: [-6.73, -140.12999999999997, 2.7497583518590667]\n",
            "Punkt docelowy: [0.0, 0]\n",
            "2.749622017490931 vs 2.7497583518590667\n",
            "Aktualne polozenie ciezarowki: [-6.49, -135.13999999999996, 2.749622017490931]\n",
            "Punkt docelowy: [0.0, 0]\n",
            "2.7494756148847976 vs 2.749622017490931\n",
            "Aktualne polozenie ciezarowki: [-6.25, -130.14999999999995, 2.7494756148847976]\n",
            "Punkt docelowy: [0.0, 0]\n",
            "2.7493179859764187 vs 2.7494756148847976\n",
            "Aktualne polozenie ciezarowki: [-6.01, -125.15999999999995, 2.7493179859764187]\n",
            "Punkt docelowy: [0.0, 0]\n",
            "2.7491477880175554 vs 2.7493179859764187\n",
            "Aktualne polozenie ciezarowki: [-5.77, -120.16999999999996, 2.7491477880175554]\n",
            "Punkt docelowy: [0.0, 0]\n",
            "2.7489634552312716 vs 2.7491477880175554\n",
            "Aktualne polozenie ciezarowki: [-5.529999999999999, -115.17999999999996, 2.7489634552312716]\n",
            "Punkt docelowy: [0.0, 0]\n",
            "2.7487631504998262 vs 2.7489634552312716\n",
            "Aktualne polozenie ciezarowki: [-5.289999999999999, -110.18999999999997, 2.7487631504998262]\n",
            "Punkt docelowy: [0.0, 0]\n",
            "2.7485447039255075 vs 2.7487631504998262\n",
            "Aktualne polozenie ciezarowki: [-5.049999999999999, -105.19999999999997, 2.7485447039255075]\n",
            "Punkt docelowy: [0.0, 0]\n",
            "2.74830553390576 vs 2.7485447039255075\n",
            "Aktualne polozenie ciezarowki: [-4.809999999999999, -100.20999999999998, 2.74830553390576]\n",
            "Punkt docelowy: [0.0, 0]\n",
            "2.748042544627606 vs 2.74830553390576\n",
            "Aktualne polozenie ciezarowki: [-4.5699999999999985, -95.21999999999998, 2.748042544627606]\n",
            "Punkt docelowy: [0.0, 0]\n",
            "2.7477519913311204 vs 2.748042544627606\n",
            "Aktualne polozenie ciezarowki: [-4.329999999999998, -90.22999999999999, 2.7477519913311204]\n",
            "Punkt docelowy: [0.0, 0]\n",
            "2.747429300864563 vs 2.7477519913311204\n",
            "Aktualne polozenie ciezarowki: [-4.089999999999998, -85.24, 2.747429300864563]\n",
            "Punkt docelowy: [0.0, 0]\n",
            "2.747068829210329 vs 2.747429300864563\n",
            "Aktualne polozenie ciezarowki: [-3.849999999999998, -80.25, 2.747068829210329]\n",
            "Punkt docelowy: [0.0, 0]\n",
            "2.7466635285471552 vs 2.747068829210329\n",
            "Aktualne polozenie ciezarowki: [-3.6099999999999977, -75.26, 2.7466635285471552]\n",
            "Punkt docelowy: [0.0, 0]\n",
            "2.746204481861899 vs 2.7466635285471552\n",
            "Aktualne polozenie ciezarowki: [-3.3699999999999974, -70.27000000000001, 2.746204481861899]\n",
            "Punkt docelowy: [0.0, 0]\n",
            "2.7456802392716506 vs 2.746204481861899\n",
            "Aktualne polozenie ciezarowki: [-3.1299999999999972, -65.28000000000002, 2.7456802392716506]\n",
            "Punkt docelowy: [0.0, 0]\n",
            "2.745075849954646 vs 2.7456802392716506\n",
            "Aktualne polozenie ciezarowki: [-2.889999999999997, -60.29000000000001, 2.745075849954646]\n",
            "Punkt docelowy: [0.0, 0]\n",
            "2.744371413334606 vs 2.745075849954646\n",
            "Aktualne polozenie ciezarowki: [-2.649999999999997, -55.30000000000001, 2.744371413334606]\n",
            "Punkt docelowy: [0.0, 0]\n",
            "2.7435398458545084 vs 2.744371413334606\n",
            "Aktualne polozenie ciezarowki: [-2.4099999999999966, -50.31000000000001, 2.7435398458545084]\n",
            "Punkt docelowy: [0.0, 0]\n",
            "2.7425433187221593 vs 2.7435398458545084\n",
            "Aktualne polozenie ciezarowki: [-2.1699999999999964, -45.32000000000001, 2.7425433187221593]\n",
            "Punkt docelowy: [0.0, 0]\n",
            "2.7413273422800852 vs 2.7425433187221593\n",
            "Aktualne polozenie ciezarowki: [-1.9299999999999964, -40.330000000000005, 2.7413273422800852]\n",
            "Punkt docelowy: [0.0, 0]\n",
            "2.7398104587067875 vs 2.7413273422800852\n",
            "Aktualne polozenie ciezarowki: [-1.6899999999999964, -35.34, 2.7398104587067875]\n",
            "Punkt docelowy: [0.0, 0]\n",
            "2.7378652022743837 vs 2.7398104587067875\n",
            "Aktualne polozenie ciezarowki: [-1.4499999999999964, -30.35, 2.7378652022743837]\n",
            "Punkt docelowy: [0.0, 0]\n",
            "2.7352802767874507 vs 2.7378652022743837\n",
            "Aktualne polozenie ciezarowki: [-1.2099999999999964, -25.36, 2.7352802767874507]\n",
            "Punkt docelowy: [0.0, 0]\n",
            "2.731678078919044 vs 2.7352802767874507\n",
            "Aktualne polozenie ciezarowki: [-0.9699999999999964, -20.369999999999997, 2.731678078919044]\n",
            "Punkt docelowy: [0.0, 0]\n",
            "2.726310993906256 vs 2.731678078919044\n",
            "Aktualne polozenie ciezarowki: [-0.7299999999999964, -15.379999999999997, 2.726310993906256]\n",
            "Punkt docelowy: [0.0, 0]\n",
            "2.7174611315205626 vs 2.726310993906256\n",
            "Aktualne polozenie ciezarowki: [-0.48999999999999644, -10.389999999999997, 2.7174611315205626]\n",
            "Punkt docelowy: [0.0, 0]\n",
            "2.7001102551467304 vs 2.7174611315205626\n",
            "Aktualne polozenie ciezarowki: [-0.24999999999999645, -5.399999999999997, 2.7001102551467304]\n",
            "Punkt docelowy: [0.0, 0]\n",
            "2.6506896834217857 vs 2.7001102551467304\n",
            "Aktualne polozenie ciezarowki: [-0.019999999999996437, -0.4099999999999966, 2.6506896834217857]\n",
            "Punkt docelowy: [0.0, 0]\n"
          ]
        }
      ]
    },
    {
      "cell_type": "code",
      "source": [
        "trasa"
      ],
      "metadata": {
        "colab": {
          "base_uri": "https://localhost:8080/"
        },
        "id": "Y8fi__tmv4Z8",
        "outputId": "e29efa7a-f84f-4a14-d7c5-cfc863dd2d1d"
      },
      "execution_count": 691,
      "outputs": [
        {
          "output_type": "execute_result",
          "data": {
            "text/plain": [
              "[[20.0, -170.0, -170.0],\n",
              " [17.5, -174.33, -150.0],\n",
              " [13.67, -177.54000000000002, -130.0],\n",
              " [8.969999999999999, -179.25000000000003, -110.0],\n",
              " [3.969999999999999, -179.25000000000003, -90.0],\n",
              " [-0.7300000000000013, -177.54000000000002, -70.0],\n",
              " [-4.560000000000001, -174.33, -50.0],\n",
              " [-7.060000000000001, -170.0, -30.0],\n",
              " [-7.9300000000000015, -165.08, -10.0],\n",
              " [-7.690000000000001, -160.09, 2.750221267425088],\n",
              " [-7.450000000000001, -155.1, 2.7501163603622203],\n",
              " [-7.210000000000001, -150.10999999999999, 2.7500047029729062],\n",
              " [-6.970000000000001, -145.11999999999998, 2.7498856220661505],\n",
              " [-6.73, -140.12999999999997, 2.7497583518590667],\n",
              " [-6.49, -135.13999999999996, 2.749622017490931],\n",
              " [-6.25, -130.14999999999995, 2.7494756148847976],\n",
              " [-6.01, -125.15999999999995, 2.7493179859764187],\n",
              " [-5.77, -120.16999999999996, 2.7491477880175554],\n",
              " [-5.529999999999999, -115.17999999999996, 2.7489634552312716],\n",
              " [-5.289999999999999, -110.18999999999997, 2.7487631504998262],\n",
              " [-5.049999999999999, -105.19999999999997, 2.7485447039255075],\n",
              " [-4.809999999999999, -100.20999999999998, 2.74830553390576],\n",
              " [-4.5699999999999985, -95.21999999999998, 2.748042544627606],\n",
              " [-4.329999999999998, -90.22999999999999, 2.7477519913311204],\n",
              " [-4.089999999999998, -85.24, 2.747429300864563],\n",
              " [-3.849999999999998, -80.25, 2.747068829210329],\n",
              " [-3.6099999999999977, -75.26, 2.7466635285471552],\n",
              " [-3.3699999999999974, -70.27000000000001, 2.746204481861899],\n",
              " [-3.1299999999999972, -65.28000000000002, 2.7456802392716506],\n",
              " [-2.889999999999997, -60.29000000000001, 2.745075849954646],\n",
              " [-2.649999999999997, -55.30000000000001, 2.744371413334606],\n",
              " [-2.4099999999999966, -50.31000000000001, 2.7435398458545084],\n",
              " [-2.1699999999999964, -45.32000000000001, 2.7425433187221593],\n",
              " [-1.9299999999999964, -40.330000000000005, 2.7413273422800852],\n",
              " [-1.6899999999999964, -35.34, 2.7398104587067875],\n",
              " [-1.4499999999999964, -30.35, 2.7378652022743837],\n",
              " [-1.2099999999999964, -25.36, 2.7352802767874507],\n",
              " [-0.9699999999999964, -20.369999999999997, 2.731678078919044],\n",
              " [-0.7299999999999964, -15.379999999999997, 2.726310993906256],\n",
              " [-0.48999999999999644, -10.389999999999997, 2.7174611315205626],\n",
              " [-0.24999999999999645, -5.399999999999997, 2.7001102551467304],\n",
              " [-0.019999999999996437, -0.4099999999999966, 2.6506896834217857]]"
            ]
          },
          "metadata": {},
          "execution_count": 691
        }
      ]
    },
    {
      "cell_type": "code",
      "source": [
        "def wizualizacja(symulacja, trasa):\n",
        "    plt.figure(figsize=(15, 10))\n",
        "    aktualna_trasa = []\n",
        "    for x_t in trasa:\n",
        "        aktualna_trasa.append(x_t)\n",
        "        x = [punkt[0] for punkt in aktualna_trasa]\n",
        "        y = [punkt[1] for punkt in aktualna_trasa]\n",
        "        dest_x = (symulacja.rampa_lewy + symulacja.rampa_prawy) / 2\n",
        "        dest_y = symulacja.rampa_gora\n",
        "        strzalka_kierunkowa = MarkerStyle(marker=10, transform=Affine2D().rotate_deg(-x_t[-1]))\n",
        "        plt.plot([symulacja.rampa_lewy, symulacja.rampa_lewy, symulacja.rampa_prawy, symulacja.rampa_prawy], [symulacja.rampa_gora, symulacja.rampa_dol, symulacja.rampa_dol, symulacja.rampa_gora], color='r', linestyle='dotted')\n",
        "        plt.plot(x,y,color='black',linestyle='dotted')\n",
        "        plt.scatter(dest_x, dest_y, color='green', marker = 's', s = 200)\n",
        "        plt.scatter(x_t[0],x_t[1], color='black', marker = strzalka_kierunkowa, s = 100)\n"
      ],
      "metadata": {
        "id": "wcxpldfUv60T"
      },
      "execution_count": 692,
      "outputs": []
    },
    {
      "cell_type": "code",
      "source": [
        "wizualizacja(sym_params, trasa)"
      ],
      "metadata": {
        "colab": {
          "base_uri": "https://localhost:8080/",
          "height": 830
        },
        "id": "uEJFMzaEzL0q",
        "outputId": "3104cb19-db4f-419b-cacb-75cfc31cb001"
      },
      "execution_count": 693,
      "outputs": [
        {
          "output_type": "display_data",
          "data": {
            "text/plain": [
              "<Figure size 1500x1000 with 1 Axes>"
            ],
            "image/png": "[encoded data removed]"
          },
          "metadata": {}
        }
      ]
    }
  ]
}