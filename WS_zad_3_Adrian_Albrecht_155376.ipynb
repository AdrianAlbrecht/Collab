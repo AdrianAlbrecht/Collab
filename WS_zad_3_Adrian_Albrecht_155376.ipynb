{
  "nbformat": 4,
  "nbformat_minor": 0,
  "metadata": {
    "colab": {
      "provenance": [],
      "authorship_tag": "ABX9TyNf0KuIsHRTHKnN2PPCT++Z",
      "include_colab_link": true
    },
    "kernelspec": {
      "name": "python3",
      "display_name": "Python 3"
    },
    "language_info": {
      "name": "python"
    }
  },
  "cells": [
    {
      "cell_type": "markdown",
      "metadata": {
        "id": "view-in-github",
        "colab_type": "text"
      },
      "source": [
        "<a href=\"https://colab.research.google.com/github/AdrianAlbrecht/Collab/blob/main/WS_zad_3_Adrian_Albrecht_155376.ipynb\" target=\"_parent\"><img src=\"https://colab.research.google.com/assets/colab-badge.svg\" alt=\"Open In Colab\"/></a>"
      ]
    },
    {
      "cell_type": "code",
      "execution_count": 56,
      "metadata": {
        "id": "zItlPYW_c2d3"
      },
      "outputs": [],
      "source": [
        "from sklearn import datasets\n",
        "from sklearn.neighbors import KNeighborsClassifier\n",
        "from sklearn.preprocessing import StandardScaler\n",
        "from sklearn.metrics.pairwise import distance_metrics\n",
        "from sklearn.model_selection import train_test_split\n",
        "import pandas as pd\n",
        "import sklearn.metrics as metrics_sklearn"
      ]
    },
    {
      "cell_type": "markdown",
      "source": [
        "# Wczytywanie danych wine i iris"
      ],
      "metadata": {
        "id": "2VgsmkLKhz7a"
      }
    },
    {
      "cell_type": "code",
      "source": [
        "iris = datasets.load_iris()\n",
        "wine = datasets.load_wine()\n",
        "x_iris = iris.data\n",
        "y_iris = iris.target\n",
        "x_wine = wine.data\n",
        "y_wine = wine.target"
      ],
      "metadata": {
        "id": "UMBdehMYh3HR"
      },
      "execution_count": 57,
      "outputs": []
    },
    {
      "cell_type": "markdown",
      "source": [
        "# Tworzymy egzemplarze Standard Scaler dla Iris i Wine"
      ],
      "metadata": {
        "id": "VRaHYftLiSiU"
      }
    },
    {
      "cell_type": "code",
      "source": [
        "standarizer_iris = StandardScaler()\n",
        "iris_features_stanarized = standarizer_iris.fit_transform(x_iris)\n",
        "standarizer_wine = StandardScaler()\n",
        "wine_features_stanarized = standarizer_wine.fit_transform(x_wine)"
      ],
      "metadata": {
        "id": "If6-RI10h2aa"
      },
      "execution_count": 58,
      "outputs": []
    },
    {
      "cell_type": "markdown",
      "source": [
        "# Łączymy ustandaryzowane X i Y"
      ],
      "metadata": {
        "id": "Kw1iT61tnCvn"
      }
    },
    {
      "cell_type": "code",
      "source": [
        "iris = pd.DataFrame(iris_features_stanarized)\n",
        "iris['class'] = y_iris\n",
        "wine = pd.DataFrame(wine_features_stanarized)\n",
        "wine['class'] = y_wine"
      ],
      "metadata": {
        "id": "NeqVnfiznMdu"
      },
      "execution_count": 59,
      "outputs": []
    },
    {
      "cell_type": "markdown",
      "source": [
        "## Dzielimy dane na testowe i treningowe\n",
        "\n",
        "---\n",
        "\n",
        "Ustalamy random_state=0 , aby wyniki zawsze był te same"
      ],
      "metadata": {
        "id": "ABKp9kMmk7jq"
      }
    },
    {
      "cell_type": "code",
      "source": [
        "iris_tst, iris_trn = train_test_split(iris, test_size=0.2, random_state= 0)\n",
        "wine_tst, wine_trn = train_test_split(wine, test_size=0.2, random_state= 0)\n",
        "iris_tst_x = iris_tst.iloc[:,:-1]\n",
        "iris_tst_y = iris_tst.iloc[:,-1]\n",
        "iris_trn_x = iris_trn.iloc[:,:-1]\n",
        "iris_trn_y = iris_trn.iloc[:,-1]\n",
        "wine_tst_x = wine_tst.iloc[:,:-1]\n",
        "wine_tst_y = wine_tst.iloc[:,-1]\n",
        "wine_trn_x = wine_trn.iloc[:,:-1]\n",
        "wine_trn_y = wine_trn.iloc[:,-1]"
      ],
      "metadata": {
        "id": "iY-dJ9jHlCO3"
      },
      "execution_count": 60,
      "outputs": []
    },
    {
      "cell_type": "markdown",
      "source": [
        "# Tworzymy klasyfikatory dla Iris i Wine, dla ilości sąsiadów od 1 do 5, oraz dla wszystkich metryk zaimplementowanych w metodę\n",
        "\n",
        "\n",
        "---\n",
        "## Najpierw tworzymy spis wszystkich metryk\n",
        "\n"
      ],
      "metadata": {
        "id": "nhuC-JG_ivOa"
      }
    },
    {
      "cell_type": "code",
      "source": [
        "metrics = list(distance_metrics().keys())\n",
        "metrics"
      ],
      "metadata": {
        "id": "OTJKFgu5jURa",
        "outputId": "e563affd-9e15-4cd2-fd9c-57b13366dcbd",
        "colab": {
          "base_uri": "https://localhost:8080/"
        }
      },
      "execution_count": 61,
      "outputs": [
        {
          "output_type": "execute_result",
          "data": {
            "text/plain": [
              "['cityblock',\n",
              " 'cosine',\n",
              " 'euclidean',\n",
              " 'haversine',\n",
              " 'l2',\n",
              " 'l1',\n",
              " 'manhattan',\n",
              " 'precomputed',\n",
              " 'nan_euclidean']"
            ]
          },
          "metadata": {},
          "execution_count": 61
        }
      ]
    },
    {
      "cell_type": "markdown",
      "source": [
        "# Usuwamy 'haversine', bo ten jest tylko na dwie cechy oraz 'precomputed', bo ten źle wpółpracuje z ujemnymi danymi"
      ],
      "metadata": {
        "id": "ZipvUCKeog6Y"
      }
    },
    {
      "cell_type": "code",
      "source": [
        "metrics.remove('haversine')\n",
        "metrics.remove('precomputed')\n",
        "len(metrics)"
      ],
      "metadata": {
        "id": "IPEfonVzolcr",
        "outputId": "f9c3092c-b2ee-4f54-f00f-9ddfd3f14376",
        "colab": {
          "base_uri": "https://localhost:8080/"
        }
      },
      "execution_count": 62,
      "outputs": [
        {
          "output_type": "execute_result",
          "data": {
            "text/plain": [
              "7"
            ]
          },
          "metadata": {},
          "execution_count": 62
        }
      ]
    },
    {
      "cell_type": "markdown",
      "source": [
        "## Teraz tworzymy listę klasyfikatorów i pustą listę na predykcje klasyfikatorów"
      ],
      "metadata": {
        "id": "HJ_lBRCDjltX"
      }
    },
    {
      "cell_type": "code",
      "source": [
        "classifiers = []\n",
        "predicts_iris = []\n",
        "predicts_wine = []\n",
        "for n in range(1,6):\n",
        "  for metric in metrics:\n",
        "    classifiers.append(KNeighborsClassifier(n_neighbors=n, metric=metric))\n",
        "for classifier in classifiers:\n",
        "  k_nn = classifier.fit(iris_trn_x, iris_trn_y)\n",
        "  predicts_iris.append(k_nn.predict(iris_tst_x))\n",
        "  k_nn = classifier.fit(wine_trn_x, wine_trn_y)\n",
        "  predicts_wine.append(k_nn.predict(wine_tst_x))"
      ],
      "metadata": {
        "id": "Mf1ViSjcjz9Y"
      },
      "execution_count": 63,
      "outputs": []
    },
    {
      "cell_type": "markdown",
      "source": [
        "# Porównamy predykcję dla każdego klasifikatora na bazie statystyki \"accuracy\""
      ],
      "metadata": {
        "id": "o4MXa-B4pPlh"
      }
    },
    {
      "cell_type": "code",
      "source": [
        "acc_iris = []\n",
        "acc_wine = []\n",
        "for predicts in predicts_iris:\n",
        "  acc_iris.append(metrics_sklearn.accuracy_score(iris_tst_y, predicts))\n",
        "for predicts in predicts_wine:\n",
        "  acc_wine.append(metrics_sklearn.accuracy_score(wine_tst_y, predicts))"
      ],
      "metadata": {
        "id": "L5Ft33P0pZLA"
      },
      "execution_count": 67,
      "outputs": []
    },
    {
      "cell_type": "markdown",
      "source": [
        "# Porównajmy wartości"
      ],
      "metadata": {
        "id": "wGdSLnw4q3Ag"
      }
    },
    {
      "cell_type": "code",
      "source": [
        "print(f'Dla iris: {acc_iris}')\n",
        "print(f'Dla wine: {acc_wine}')"
      ],
      "metadata": {
        "id": "X8LiSjq5q7w6",
        "outputId": "986912b0-399f-4e0e-d7c9-9513be2a8491",
        "colab": {
          "base_uri": "https://localhost:8080/"
        }
      },
      "execution_count": 71,
      "outputs": [
        {
          "output_type": "stream",
          "name": "stdout",
          "text": [
            "Dla iris: [0.9083333333333333, 0.85, 0.9083333333333333, 0.9083333333333333, 0.9083333333333333, 0.9083333333333333, 0.9083333333333333, 0.7583333333333333, 0.675, 0.7416666666666667, 0.7416666666666667, 0.7583333333333333, 0.7583333333333333, 0.7416666666666667, 0.85, 0.7166666666666667, 0.8, 0.8, 0.85, 0.85, 0.8, 0.7583333333333333, 0.7, 0.7166666666666667, 0.7166666666666667, 0.7583333333333333, 0.7583333333333333, 0.7166666666666667, 0.8416666666666667, 0.7916666666666666, 0.7916666666666666, 0.7916666666666666, 0.8416666666666667, 0.8416666666666667, 0.7916666666666666]\n",
            "Dla wine: [0.9507042253521126, 0.9366197183098591, 0.9225352112676056, 0.9225352112676056, 0.9507042253521126, 0.9507042253521126, 0.9225352112676056, 0.9154929577464789, 0.9014084507042254, 0.8873239436619719, 0.8873239436619719, 0.9154929577464789, 0.9154929577464789, 0.8873239436619719, 0.9788732394366197, 0.9436619718309859, 0.9436619718309859, 0.9436619718309859, 0.9788732394366197, 0.9788732394366197, 0.9436619718309859, 0.9577464788732394, 0.9366197183098591, 0.9366197183098591, 0.9366197183098591, 0.9577464788732394, 0.9577464788732394, 0.9366197183098591, 0.971830985915493, 0.9507042253521126, 0.9436619718309859, 0.9436619718309859, 0.971830985915493, 0.971830985915493, 0.9436619718309859]\n"
          ]
        }
      ]
    },
    {
      "cell_type": "markdown",
      "source": [
        "# Widzimy, że wartości się powtarzają, szczególnie te najwyższe (a te nas interesują), wyszukajmy zatem indeksy tych wartości i wypiszmy najlepsze klasyfikatory względem dokładności (\"accuracy\")"
      ],
      "metadata": {
        "id": "seQbKmsKrq9H"
      }
    },
    {
      "cell_type": "code",
      "source": [
        "best_iris_acc = [i for i in range(len(acc_iris)) if acc_iris[i] == max(acc_iris)]\n",
        "best_wine_acc = [i for i in range(len(acc_wine)) if acc_wine[i] == max(acc_wine)]\n",
        "print(f'Dla iris: {best_iris_acc}')\n",
        "print(f'Dla wine: {best_wine_acc}')"
      ],
      "metadata": {
        "id": "9wyQ0qSnr-Oh",
        "outputId": "774ff73b-0e19-4eb2-bb59-6372de3dbad6",
        "colab": {
          "base_uri": "https://localhost:8080/"
        }
      },
      "execution_count": 73,
      "outputs": [
        {
          "output_type": "stream",
          "name": "stdout",
          "text": [
            "Dla iris: [0, 2, 3, 4, 5, 6]\n",
            "Dla wine: [14, 18, 19]\n"
          ]
        }
      ]
    },
    {
      "cell_type": "code",
      "source": [
        "print(f'Najlepsze klasyfikatory dla Iris z dokładnością {max(acc_iris)}:')\n",
        "for i in best_iris_acc:\n",
        "  print(classifiers[i])"
      ],
      "metadata": {
        "id": "-syANqpJsoq_",
        "outputId": "4b740371-1e0c-4c44-ad4d-4fd3194923c0",
        "colab": {
          "base_uri": "https://localhost:8080/"
        }
      },
      "execution_count": 75,
      "outputs": [
        {
          "output_type": "stream",
          "name": "stdout",
          "text": [
            "Najlepsze klasyfikatory dla Iris z dokładnością 0.9083333333333333:\n",
            "KNeighborsClassifier(metric='cityblock', n_neighbors=1)\n",
            "KNeighborsClassifier(metric='euclidean', n_neighbors=1)\n",
            "KNeighborsClassifier(metric='l2', n_neighbors=1)\n",
            "KNeighborsClassifier(metric='l1', n_neighbors=1)\n",
            "KNeighborsClassifier(metric='manhattan', n_neighbors=1)\n",
            "KNeighborsClassifier(metric='nan_euclidean', n_neighbors=1)\n"
          ]
        }
      ]
    },
    {
      "cell_type": "code",
      "source": [
        "print(f'Najlepsze klasyfikatory dla Wine z dokładnością {max(acc_wine)}:')\n",
        "for i in best_wine_acc:\n",
        "  print(classifiers[i])"
      ],
      "metadata": {
        "id": "tzmJ5qI0tBUw",
        "outputId": "c6254bf7-bc0f-419c-b8a8-12ecbeff1996",
        "colab": {
          "base_uri": "https://localhost:8080/"
        }
      },
      "execution_count": 76,
      "outputs": [
        {
          "output_type": "stream",
          "name": "stdout",
          "text": [
            "Najlepsze klasyfikatory dla Wine z dokładnością 0.9788732394366197:\n",
            "KNeighborsClassifier(metric='cityblock', n_neighbors=3)\n",
            "KNeighborsClassifier(metric='l1', n_neighbors=3)\n",
            "KNeighborsClassifier(metric='manhattan', n_neighbors=3)\n"
          ]
        }
      ]
    }
  ]
}