{
  "nbformat": 4,
  "nbformat_minor": 0,
  "metadata": {
    "colab": {
      "provenance": [],
      "authorship_tag": "ABX9TyMfB08T99YGESLm+flKb9Ca",
      "include_colab_link": true
    },
    "kernelspec": {
      "name": "python3",
      "display_name": "Python 3"
    },
    "language_info": {
      "name": "python"
    }
  },
  "cells": [
    {
      "cell_type": "markdown",
      "metadata": {
        "id": "view-in-github",
        "colab_type": "text"
      },
      "source": [
        "<a href=\"https://colab.research.google.com/github/AdrianAlbrecht/Collab/blob/main/SSI_zachlanne_dopasowanie.ipynb\" target=\"_parent\"><img src=\"https://colab.research.google.com/assets/colab-badge.svg\" alt=\"Open In Colab\"/></a>"
      ]
    },
    {
      "cell_type": "code",
      "execution_count": 51,
      "metadata": {
        "id": "yvbuKJfOzDU5"
      },
      "outputs": [],
      "source": [
        "import warnings\n",
        "warnings.filterwarnings('ignore')\n",
        "import random\n",
        "import math\n",
        "import numpy as np"
      ]
    },
    {
      "cell_type": "code",
      "source": [
        "znak_wzorcowy_1 = [\n",
        "    [0, 0, 0, 1],\n",
        "    [0, 0, 1, 1],\n",
        "    [0, 1, 0, 1],\n",
        "    [0, 0, 0, 1],\n",
        "    [0, 0, 0, 1]\n",
        "]\n",
        "znak_wzorcowy_2 = [\n",
        "    [0, 1, 1, 1],\n",
        "    [1, 0, 0, 1],\n",
        "    [0, 0, 1, 0],\n",
        "    [0, 1, 0, 0],\n",
        "    [1, 1, 1, 1]\n",
        "]\n",
        "znak_wzorcowy_3 = [\n",
        "    [1, 1, 1, 0],\n",
        "    [0, 0, 0, 1],\n",
        "    [1, 1, 1, 1],\n",
        "    [0, 0, 0, 1],\n",
        "    [1, 1, 1, 0]\n",
        "]\n",
        "wzorce = [znak_wzorcowy_1, znak_wzorcowy_2, znak_wzorcowy_3]"
      ],
      "metadata": {
        "id": "KJaW3axVzc9E"
      },
      "execution_count": 52,
      "outputs": []
    },
    {
      "cell_type": "code",
      "source": [
        "znak_testowy_1 = [\n",
        "    [0, 0, 0, 0],\n",
        "    [0, 0, 1, 1],\n",
        "    [0, 1, 1, 1],\n",
        "    [0, 0, 0, 1],\n",
        "    [0, 0, 0, 1]\n",
        "]\n",
        "znak_testowy_2 = [\n",
        "    [1, 1, 1, 1],\n",
        "    [0, 0, 0, 1],\n",
        "    [1, 1, 1, 1],\n",
        "    [0, 0, 1, 1],\n",
        "    [1, 1, 1, 1]\n",
        "]\n",
        "znak_testowy_3 = [\n",
        "    [1, 1, 1, 1],\n",
        "    [0, 0, 0, 1],\n",
        "    [0, 0, 1, 0],\n",
        "    [1, 1, 0, 0],\n",
        "    [1, 1, 1, 1]\n",
        "]\n",
        "znak_testowy_4 = [\n",
        "    [1, 1, 1, 1],\n",
        "    [0, 0, 0, 1],\n",
        "    [1, 1, 1, 1],\n",
        "    [0, 0, 1, 1],\n",
        "    [1, 1, 1, 1]\n",
        "]\n",
        "testy = [znak_testowy_1, znak_testowy_2, znak_testowy_3, znak_testowy_4]"
      ],
      "metadata": {
        "id": "QhOq_zKY5EsI"
      },
      "execution_count": 53,
      "outputs": []
    },
    {
      "cell_type": "code",
      "source": [
        "def odleglosc_manhattan(i,j,x,y):\n",
        "  return abs(i - x) + abs(j - y)"
      ],
      "metadata": {
        "id": "LNnT4im1-8rd"
      },
      "execution_count": 54,
      "outputs": []
    },
    {
      "cell_type": "code",
      "source": [
        "def odleglosc_euklides(i,j,x,y):\n",
        "  return ((i - x) ** 2 + (j - y) ** 2) ** 0.5"
      ],
      "metadata": {
        "id": "xeYh1JZkCeHk"
      },
      "execution_count": 58,
      "outputs": []
    },
    {
      "cell_type": "code",
      "source": [
        "def miara_niepodobienstwa(BA, BB):\n",
        "    miara = 0\n",
        "    for i in range(len(BA)):\n",
        "        for j in range(len(BA[i])):\n",
        "            if BA[i][j] == 1:\n",
        "                odl_min = float('inf')\n",
        "                for x in range(len(BB)):\n",
        "                    for y in range(len(BB[x])):\n",
        "                        if BB[x][y] == 1:\n",
        "                            #odl_akt = odleglosc_manhattan(i,j,x,y)  # Odległość Manhattan\n",
        "                            odl_akt = odleglosc_euklides(i,j,x,y)  # Odległość Euklidesowa\n",
        "                            odl_min = min(odl_min, odl_akt)\n",
        "                miara += odl_min\n",
        "    return miara"
      ],
      "metadata": {
        "id": "I9D1l49P6eGg"
      },
      "execution_count": 62,
      "outputs": []
    },
    {
      "cell_type": "code",
      "source": [
        "def miara_podobienstwa_obustronnego(BA, BB):\n",
        "    miara_niepodobienstwa1 = miara_niepodobienstwa(BA, BB)\n",
        "    miara_niepodobienstwa2 = miara_niepodobienstwa(BB, BA)\n",
        "    miara_podobienstwa = -(miara_niepodobienstwa1 + miara_niepodobienstwa2)\n",
        "    return miara_podobienstwa"
      ],
      "metadata": {
        "id": "T3vm5nj37v3m"
      },
      "execution_count": 56,
      "outputs": []
    },
    {
      "cell_type": "code",
      "source": [
        "for i in range(len(testy)):\n",
        "  wyniki = []\n",
        "  for j in range(len(wzorce)):\n",
        "    wynik = miara_podobienstwa_obustronnego(testy[i],wzorce[j])\n",
        "    print(f\"Podobieństwo znaku_testowego_{i+1} do znaku_wzocowego_{j+1} wynosi: {wynik}\")\n",
        "    wyniki.append(wynik)\n",
        "  print(f\"Najlepsze dopasowanie do znaku_testowego_{i+1} miał znaku_wzocowego_{wyniki.index(max(wyniki))}\")"
      ],
      "metadata": {
        "colab": {
          "base_uri": "https://localhost:8080/"
        },
        "id": "ZnJ0BGZV5JkP",
        "outputId": "fb16a799-641d-4a42-85ad-84fb358baed5"
      },
      "execution_count": 63,
      "outputs": [
        {
          "output_type": "stream",
          "name": "stdout",
          "text": [
            "Podobieństwo znaku_testowego_1 do znaku_wzocowego_1 wynosi: -2.0\n",
            "Podobieństwo znaku_testowego_1 do znaku_wzocowego_2 wynosi: -15.06449510224598\n",
            "Podobieństwo znaku_testowego_1 do znaku_wzocowego_3 wynosi: -12.886349517372675\n",
            "Najlepsze dopasowanie do znaku_testowego_1 miał znaku_wzocowego_0\n",
            "Podobieństwo znaku_testowego_2 do znaku_wzocowego_1 wynosi: -13.886349517372675\n",
            "Podobieństwo znaku_testowego_2 do znaku_wzocowego_2 wynosi: -8.0\n",
            "Podobieństwo znaku_testowego_2 do znaku_wzocowego_3 wynosi: -3.0\n",
            "Najlepsze dopasowanie do znaku_testowego_2 miał znaku_wzocowego_2\n",
            "Podobieństwo znaku_testowego_3 do znaku_wzocowego_1 wynosi: -17.30056307974577\n",
            "Podobieństwo znaku_testowego_3 do znaku_wzocowego_2 wynosi: -3.0\n",
            "Podobieństwo znaku_testowego_3 do znaku_wzocowego_3 wynosi: -8.0\n",
            "Najlepsze dopasowanie do znaku_testowego_3 miał znaku_wzocowego_1\n",
            "Podobieństwo znaku_testowego_4 do znaku_wzocowego_1 wynosi: -13.886349517372675\n",
            "Podobieństwo znaku_testowego_4 do znaku_wzocowego_2 wynosi: -8.0\n",
            "Podobieństwo znaku_testowego_4 do znaku_wzocowego_3 wynosi: -3.0\n",
            "Najlepsze dopasowanie do znaku_testowego_4 miał znaku_wzocowego_2\n"
          ]
        }
      ]
    }
  ]
}